{
 "cells": [
  {
   "cell_type": "code",
   "execution_count": 50,
   "id": "caec580b",
   "metadata": {},
   "outputs": [],
   "source": [
    "from mxnet import nd"
   ]
  },
  {
   "cell_type": "code",
   "execution_count": 4,
   "id": "b1a160eb",
   "metadata": {},
   "outputs": [],
   "source": [
    "x = nd.arange(12)"
   ]
  },
  {
   "cell_type": "code",
   "execution_count": 7,
   "id": "7dd78cf5",
   "metadata": {},
   "outputs": [
    {
     "data": {
      "text/plain": [
       "\n",
       "[ 0.  1.  2.  3.  4.  5.  6.  7.  8.  9. 10. 11.]\n",
       "<NDArray 12 @cpu(0)>"
      ]
     },
     "execution_count": 7,
     "metadata": {},
     "output_type": "execute_result"
    }
   ],
   "source": [
    "x"
   ]
  },
  {
   "cell_type": "code",
   "execution_count": 11,
   "id": "10259e4e",
   "metadata": {},
   "outputs": [
    {
     "data": {
      "text/plain": [
       "\n",
       "[11.]\n",
       "<NDArray 1 @cpu(0)>"
      ]
     },
     "execution_count": 11,
     "metadata": {},
     "output_type": "execute_result"
    }
   ],
   "source": [
    "x[11]"
   ]
  },
  {
   "cell_type": "code",
   "execution_count": 12,
   "id": "cdc7d9dd",
   "metadata": {
    "scrolled": true
   },
   "outputs": [
    {
     "name": "stdout",
     "output_type": "stream",
     "text": [
      "Package              Version\n",
      "-------------------- ---------\n",
      "argon2-cffi          21.3.0\n",
      "argon2-cffi-bindings 21.2.0\n",
      "async-generator      1.10\n",
      "attrs                21.4.0\n",
      "backcall             0.2.0\n",
      "bleach               4.1.0\n",
      "certifi              2021.5.30\n",
      "cffi                 1.15.0\n",
      "chardet              3.0.4\n",
      "colorama             0.4.4\n",
      "cycler               0.11.0\n",
      "d2lzh                1.0.0\n",
      "dataclasses          0.8\n",
      "decorator            5.1.1\n",
      "defusedxml           0.7.1\n",
      "entrypoints          0.4\n",
      "graphviz             0.8.4\n",
      "idna                 2.6\n",
      "importlib-metadata   4.8.3\n",
      "ipykernel            5.5.6\n",
      "ipython              7.16.3\n",
      "ipython-genutils     0.2.0\n",
      "ipywidgets           7.7.0\n",
      "jedi                 0.17.2\n",
      "Jinja2               3.0.3\n",
      "jsonschema           4.0.0\n",
      "jupyter              1.0.0\n",
      "jupyter-client       7.1.2\n",
      "jupyter-console      6.4.3\n",
      "jupyter-core         4.9.2\n",
      "jupyterlab-pygments  0.1.2\n",
      "jupyterlab-widgets   1.1.0\n",
      "kiwisolver           1.3.1\n",
      "MarkupSafe           2.0.1\n",
      "matplotlib           2.2.2\n",
      "mistune              0.8.4\n",
      "mxnet                1.5.0\n",
      "nbclient             0.5.9\n",
      "nbconvert            6.0.7\n",
      "nbformat             5.1.3\n",
      "nest-asyncio         1.5.5\n",
      "notebook             6.4.10\n",
      "numpy                1.16.6\n",
      "packaging            21.3\n",
      "pandas               0.23.4\n",
      "pandocfilters        1.5.0\n",
      "parso                0.7.1\n",
      "pickleshare          0.7.5\n",
      "pip                  21.2.2\n",
      "prometheus-client    0.14.1\n",
      "prompt-toolkit       3.0.29\n",
      "pycparser            2.21\n",
      "Pygments             2.11.2\n",
      "pyparsing            3.0.7\n",
      "pyrsistent           0.18.0\n",
      "python-dateutil      2.8.2\n",
      "pytz                 2022.1\n",
      "pywin32              303\n",
      "pywinpty             1.1.6\n",
      "pyzmq                22.3.0\n",
      "qtconsole            5.2.2\n",
      "QtPy                 2.0.1\n",
      "requests             2.18.4\n",
      "Send2Trash           1.8.0\n",
      "setuptools           58.0.4\n",
      "six                  1.16.0\n",
      "terminado            0.13.0\n",
      "testpath             0.6.0\n",
      "tornado              6.1\n",
      "traitlets            4.3.3\n",
      "typing_extensions    4.1.1\n",
      "urllib3              1.22\n",
      "wcwidth              0.2.5\n",
      "webencodings         0.5.1\n",
      "wheel                0.37.1\n",
      "widgetsnbextension   3.6.0\n",
      "wincertstore         0.2\n",
      "zipp                 3.6.0\n",
      "Note: you may need to restart the kernel to use updated packages.\n"
     ]
    }
   ],
   "source": [
    "pip list"
   ]
  },
  {
   "cell_type": "code",
   "execution_count": 21,
   "id": "d83ef016",
   "metadata": {},
   "outputs": [
    {
     "data": {
      "text/plain": [
       "True"
      ]
     },
     "execution_count": 21,
     "metadata": {},
     "output_type": "execute_result"
    }
   ],
   "source": [
    "X = nd.arange(12).reshape((3,4))\n",
    "Y = nd.array([[2, 1, 4, 3], [1, 2, 3, 4], [4, 3, 2, 1]])\n",
    "Z = Y.zeros_like()\n",
    "before = id(Z)\n",
    "Z[:]= X + Y\n",
    "id(Z) == before"
   ]
  },
  {
   "cell_type": "code",
   "execution_count": 25,
   "id": "51096dec",
   "metadata": {},
   "outputs": [],
   "source": [
    "from mxnet import nd,autograd"
   ]
  },
  {
   "cell_type": "code",
   "execution_count": 35,
   "id": "9c33222f",
   "metadata": {},
   "outputs": [],
   "source": [
    "x = nd.arange(4).reshape((4, 1))\n",
    "x\n",
    "x.attach_grad()\n",
    "\n",
    "with autograd.record():\n",
    "    y = 2 * nd.dot(x.T, x)\n",
    "\n",
    "y.backward()"
   ]
  },
  {
   "cell_type": "code",
   "execution_count": 33,
   "id": "e9e22163",
   "metadata": {},
   "outputs": [
    {
     "data": {
      "text/plain": [
       "\n",
       "[[ 0.]\n",
       " [ 4.]\n",
       " [ 8.]\n",
       " [12.]]\n",
       "<NDArray 4x1 @cpu(0)>"
      ]
     },
     "execution_count": 33,
     "metadata": {},
     "output_type": "execute_result"
    }
   ],
   "source": [
    "assert (x.grad - 4 * x).norm().asscalar() == 0\n",
    "x.grad\n",
    "y"
   ]
  },
  {
   "cell_type": "code",
   "execution_count": 38,
   "id": "7ec2565a",
   "metadata": {},
   "outputs": [],
   "source": [
    "assert (x.grad - 4 * x).norm().asscalar() == 0"
   ]
  },
  {
   "cell_type": "code",
   "execution_count": 39,
   "id": "8db3121b",
   "metadata": {},
   "outputs": [
    {
     "data": {
      "text/plain": [
       "\n",
       "[[0.]\n",
       " [0.]\n",
       " [0.]\n",
       " [0.]]\n",
       "<NDArray 4x1 @cpu(0)>"
      ]
     },
     "execution_count": 39,
     "metadata": {},
     "output_type": "execute_result"
    }
   ],
   "source": [
    "x.grad - 4 * x"
   ]
  },
  {
   "cell_type": "code",
   "execution_count": 40,
   "id": "9aef222f",
   "metadata": {},
   "outputs": [],
   "source": [
    "nd.random.uniform??"
   ]
  },
  {
   "cell_type": "code",
   "execution_count": 41,
   "id": "1d49cc70",
   "metadata": {},
   "outputs": [
    {
     "data": {
      "text/plain": [
       "\n",
       "[ 0.  1.  2.  3.  4.  5.  6.  7.  8.  9. 10. 11.]\n",
       "<NDArray 12 @cpu(0)>"
      ]
     },
     "execution_count": 41,
     "metadata": {},
     "output_type": "execute_result"
    }
   ],
   "source": [
    "x = nd.arange(12)\n",
    "x"
   ]
  },
  {
   "cell_type": "code",
   "execution_count": 42,
   "id": "af298aa5",
   "metadata": {},
   "outputs": [
    {
     "data": {
      "text/plain": [
       "\n",
       "[[ 0.  1.  2.  3.]\n",
       " [ 4.  5.  6.  7.]\n",
       " [ 8.  9. 10. 11.]]\n",
       "<NDArray 3x4 @cpu(0)>"
      ]
     },
     "execution_count": 42,
     "metadata": {},
     "output_type": "execute_result"
    }
   ],
   "source": [
    "\n",
    "X = x.reshape((3, 4))\n",
    "X"
   ]
  },
  {
   "cell_type": "code",
   "execution_count": 49,
   "id": "bd089dd6",
   "metadata": {},
   "outputs": [
    {
     "data": {
      "text/plain": [
       "\n",
       "[22.494442]\n",
       "<NDArray 1 @cpu(0)>"
      ]
     },
     "execution_count": 49,
     "metadata": {},
     "output_type": "execute_result"
    }
   ],
   "source": [
    "X.norm()"
   ]
  },
  {
   "cell_type": "code",
   "execution_count": null,
   "id": "c61cd3f4",
   "metadata": {},
   "outputs": [],
   "source": []
  }
 ],
 "metadata": {
  "kernelspec": {
   "display_name": "Python 3",
   "language": "python",
   "name": "python3"
  },
  "language_info": {
   "codemirror_mode": {
    "name": "ipython",
    "version": 3
   },
   "file_extension": ".py",
   "mimetype": "text/x-python",
   "name": "python",
   "nbconvert_exporter": "python",
   "pygments_lexer": "ipython3",
   "version": "3.6.13"
  }
 },
 "nbformat": 4,
 "nbformat_minor": 5
}
