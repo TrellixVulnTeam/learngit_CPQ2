{
 "cells": [
  {
   "cell_type": "code",
   "execution_count": 2,
   "id": "3d7738e3",
   "metadata": {},
   "outputs": [
    {
     "name": "stdout",
     "output_type": "stream",
     "text": [
      "2560 1440\n"
     ]
    }
   ],
   "source": [
    "import pyautogui\n",
    "\n",
    "pyautogui.PAUSE = 1 # 调用在执行动作后暂停的秒数，只能在执行一些pyautogui动作后才能使用，建议用time.sleep\n",
    "pyautogui.FAILSAFE = True # 启用自动防故障功能，左上角的坐标为（0，0），将鼠标移到屏幕的左上角，来抛出failSafeException异常\n",
    "\n",
    "# 判断(x,y)是否在屏幕上\n",
    "x, y = 122, 244\n",
    "pyautogui.onScreen(x, y) # 结果为true\n",
    "\n",
    "width, height = pyautogui.size() # 屏幕的宽度和高度\n",
    "print(width, height)"
   ]
  },
  {
   "cell_type": "code",
   "execution_count": 11,
   "id": "feb4e138",
   "metadata": {},
   "outputs": [
    {
     "name": "stdout",
     "output_type": "stream",
     "text": [
      "1542 551\n"
     ]
    }
   ],
   "source": [
    "import pyautogui\n",
    "currentMouseX, currentMouseY = pyautogui.position() # 鼠标当前位置\n",
    "print(currentMouseX, currentMouseY)\n",
    "# 控制鼠标移动,duration为持续时间\n",
    "for i in range(2):\n",
    "    pyautogui.moveTo(100, 100, duration=0.25) # 移动到 (100,100)\n",
    "    pyautogui.moveTo(200, 100, duration=0.25)\n",
    "    pyautogui.moveTo(200, 200, duration=0.25)\n",
    "    pyautogui.moveTo(100, 200, duration=0.25)\n",
    "for i in range(2):\n",
    "    pyautogui.moveRel(50, 0, duration=0.25) # 从当前位置右移100像素\n",
    "    pyautogui.moveRel(0, 50, duration=0.25) # 向下\n",
    "    pyautogui.moveRel(-50, 0, duration=0.25) # 向左\n",
    "    pyautogui.moveRel(0, -50, duration=0.25) # 向上"
   ]
  },
  {
   "cell_type": "code",
   "execution_count": null,
   "id": "7a69a0e6",
   "metadata": {},
   "outputs": [],
   "source": []
  },
  {
   "cell_type": "code",
   "execution_count": null,
   "id": "30d8b547",
   "metadata": {},
   "outputs": [],
   "source": []
  },
  {
   "cell_type": "code",
   "execution_count": null,
   "id": "a09b1838",
   "metadata": {},
   "outputs": [],
   "source": []
  }
 ],
 "metadata": {
  "kernelspec": {
   "display_name": "Python [conda env:newtest3.8]",
   "language": "python",
   "name": "conda-env-newtest3.8-py"
  },
  "language_info": {
   "codemirror_mode": {
    "name": "ipython",
    "version": 3
   },
   "file_extension": ".py",
   "mimetype": "text/x-python",
   "name": "python",
   "nbconvert_exporter": "python",
   "pygments_lexer": "ipython3",
   "version": "3.8.13"
  }
 },
 "nbformat": 4,
 "nbformat_minor": 5
}
